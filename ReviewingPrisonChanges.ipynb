{
 "cells": [
  {
   "cell_type": "code",
   "execution_count": 1,
   "id": "cb0bffb6-6fe3-45f2-b705-779985a5b1af",
   "metadata": {},
   "outputs": [
    {
     "name": "stdout",
     "output_type": "stream",
     "text": [
      "Fri Sep 20 06:56:56 PM CDT 2024\n"
     ]
    }
   ],
   "source": [
    "!date"
   ]
  },
  {
   "cell_type": "code",
   "execution_count": 2,
   "id": "396cd29b-a77e-4928-ae58-f66cdd70a442",
   "metadata": {},
   "outputs": [],
   "source": [
    "import pandas as pd\n",
    "import pickle"
   ]
  },
  {
   "cell_type": "code",
   "execution_count": 4,
   "id": "a6757ea9-3acf-4aaf-a13d-f58a1c11edef",
   "metadata": {},
   "outputs": [
    {
     "name": "stdout",
     "output_type": "stream",
     "text": [
      "total 82048\n",
      "-rw-rw-r--  1 lance lance 20989185 Sep 19 10:10 19_Sep_24_09_10_09_20_Texas_Prison.pkl\n",
      "drwxrwxr-x  2 lance lance     4096 Sep 19 10:10 .\n",
      "-rw-rw-r--  1 lance lance 20989185 Sep 18 09:44 18_Sep_24_09_09_44_05_Texas_Prison.pkl\n",
      "-rw-rw-r--  1 lance lance 20989185 Sep 17 09:21 17_Sep_24_09_09_21_08_Texas_Prison.pkl\n",
      "-rw-rw-r--  1 lance lance 21032471 Sep 16 14:08 16_Sep_24_Texas_Prison.pkl\n",
      "drwxrwxr-x 11 lance lance     4096 Sep 16 09:54 ..\n"
     ]
    }
   ],
   "source": [
    "!ls -alt ../../Texas_Prison_storage/"
   ]
  },
  {
   "cell_type": "code",
   "execution_count": 5,
   "id": "cf4fb474-cd60-4cd7-af25-c20b128735cb",
   "metadata": {},
   "outputs": [],
   "source": [
    "with open(r'../../Texas_Prison_storage/16_Sep_24_Texas_Prison.pkl', 'rb') as ifile:\n",
    "    Sep_16_24_df = pickle.load(ifile)"
   ]
  },
  {
   "cell_type": "code",
   "execution_count": 6,
   "id": "0bcda07d-947b-4773-a749-1af2a95fd114",
   "metadata": {},
   "outputs": [],
   "source": [
    "with open(r'../../Texas_Prison_storage/19_Sep_24_09_10_09_20_Texas_Prison.pkl', 'rb') as ifile:\n",
    "    Sep_19_24_df = pickle.load(ifile)"
   ]
  },
  {
   "cell_type": "code",
   "execution_count": 8,
   "id": "fa2daa54-34bc-4ba1-8816-4d8720b20ffb",
   "metadata": {},
   "outputs": [
    {
     "data": {
      "text/plain": [
       "273"
      ]
     },
     "execution_count": 8,
     "metadata": {},
     "output_type": "execute_result"
    }
   ],
   "source": [
    "len(Sep_16_24_df) - len(Sep_19_24_df)"
   ]
  },
  {
   "cell_type": "code",
   "execution_count": 9,
   "id": "d85cea39-a773-4c02-aafe-d67ae95b317d",
   "metadata": {},
   "outputs": [],
   "source": [
    "merged = Sep_16_24_df.merge(Sep_19_24_df, on=['SID Number'], how='outer', indicator=True)"
   ]
  },
  {
   "cell_type": "code",
   "execution_count": 13,
   "id": "347cc604-be14-4691-8baa-c263fe5c92ef",
   "metadata": {},
   "outputs": [
    {
     "data": {
      "text/plain": [
       "129813"
      ]
     },
     "execution_count": 13,
     "metadata": {},
     "output_type": "execute_result"
    }
   ],
   "source": [
    "len(merged[merged['_merge'] == 'both'])"
   ]
  },
  {
   "cell_type": "code",
   "execution_count": 14,
   "id": "80747237-2706-4738-8d9d-37a236d097df",
   "metadata": {},
   "outputs": [
    {
     "data": {
      "text/plain": [
       "4493"
      ]
     },
     "execution_count": 14,
     "metadata": {},
     "output_type": "execute_result"
    }
   ],
   "source": [
    "len(merged[merged['_merge'] == 'right_only'])"
   ]
  },
  {
   "cell_type": "code",
   "execution_count": 15,
   "id": "3d685ab5-7b8f-4218-b260-57c3364e8f3c",
   "metadata": {},
   "outputs": [
    {
     "data": {
      "text/plain": [
       "4766"
      ]
     },
     "execution_count": 15,
     "metadata": {},
     "output_type": "execute_result"
    }
   ],
   "source": [
    "len(merged[merged['_merge'] == 'left_only'])"
   ]
  },
  {
   "cell_type": "code",
   "execution_count": 16,
   "id": "cc37a109-3bda-4418-9652-f3bf1972d46f",
   "metadata": {},
   "outputs": [
    {
     "data": {
      "text/plain": [
       "273"
      ]
     },
     "execution_count": 16,
     "metadata": {},
     "output_type": "execute_result"
    }
   ],
   "source": [
    "len(merged[merged['_merge'] == 'left_only']) - len(merged[merged['_merge'] == 'right_only'])"
   ]
  },
  {
   "cell_type": "code",
   "execution_count": null,
   "id": "374d63f5-5c04-4e4c-ac4a-8fa4b4f4e9a8",
   "metadata": {},
   "outputs": [],
   "source": []
  }
 ],
 "metadata": {
  "kernelspec": {
   "display_name": "Python 3 (ipykernel)",
   "language": "python",
   "name": "python3"
  },
  "language_info": {
   "codemirror_mode": {
    "name": "ipython",
    "version": 3
   },
   "file_extension": ".py",
   "mimetype": "text/x-python",
   "name": "python",
   "nbconvert_exporter": "python",
   "pygments_lexer": "ipython3",
   "version": "3.10.12"
  }
 },
 "nbformat": 4,
 "nbformat_minor": 5
}
